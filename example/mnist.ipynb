{
 "cells": [
  {
   "cell_type": "code",
   "execution_count": 1,
   "metadata": {},
   "outputs": [
    {
     "data": {
      "text/plain": [
       "Float32"
      ]
     },
     "metadata": {},
     "output_type": "display_data"
    }
   ],
   "source": [
    "using Statistics: mean\n",
    "using ProgressMeter: @showprogress\n",
    "using Romeo\n",
    "using LinearAlgebra: norm\n",
    "\n",
    "# Flux is used only for loading the MNIST dataset\n",
    "using MLDatasets, Flux\n",
    "\n",
    "Num = Float32"
   ]
  },
  {
   "cell_type": "code",
   "execution_count": 12,
   "metadata": {},
   "outputs": [
    {
     "data": {
      "text/plain": [
       "(η = 0.015, epochs = 5, batchsize = 100, hi = 1)"
      ]
     },
     "metadata": {},
     "output_type": "display_data"
    }
   ],
   "source": [
    "settings = (;\n",
    "    η = 15e-3,\n",
    "    epochs = 5,\n",
    "    batchsize = 100,\n",
    "    hi = 1\n",
    ")"
   ]
  },
  {
   "cell_type": "code",
   "execution_count": 3,
   "metadata": {},
   "outputs": [
    {
     "data": {
      "text/plain": [
       "loader (generic function with 1 method)"
      ]
     },
     "metadata": {},
     "output_type": "display_data"
    }
   ],
   "source": [
    "train_data = MLDatasets.MNIST(split=:train)\n",
    "test_data = MLDatasets.MNIST(split=:test)\n",
    "\n",
    "function loader(data; batchsize::Int=-1)\n",
    "    x1dim = reshape(data.features, 28 * 28, :)\n",
    "    yhot = Romeo.onehot.(data.targets, 10, Num)\n",
    "    return Flux.DataLoader((x1dim, yhot); batchsize, shuffle=true)\n",
    "end"
   ]
  },
  {
   "cell_type": "code",
   "execution_count": 8,
   "metadata": {},
   "outputs": [
    {
     "data": {
      "text/plain": [
       "loss_and_accuracy (generic function with 1 method)"
      ]
     },
     "metadata": {},
     "output_type": "display_data"
    }
   ],
   "source": [
    "net = Romeo.Network(\n",
    "    Romeo.RNN(Romeo.RNNCell{Num}(14 * 14 => 64, activation=Romeo.tanh, init=Romeo.glorot_uniform)),\n",
    "    Romeo.Dense{Num}(64 => 10, activation=Romeo.identity, init=Romeo.glorot_uniform),\n",
    "    Romeo.Softmax{Num}()\n",
    ")\n",
    "\n",
    "function batch_process(model::Romeo.Network, data)\n",
    "    (x, y) = data\n",
    "\n",
    "    Romeo.reset!(model)\n",
    "\n",
    "    ŷ = model(x[  1:196,:])\n",
    "    ŷ = model(x[197:392,:])\n",
    "    ŷ = model(x[393:588,:])\n",
    "    ŷ = model(x[589:end,:])\n",
    "\n",
    "    return Romeo.crossentropy(ŷ, Romeo.MatrixConstant(y)), ŷ\n",
    "end\n",
    "\n",
    "function loss_and_accuracy(model::Romeo.Network, data)\n",
    "    (x, y) = only(loader(data; batchsize=length(data)))\n",
    "    y = hcat(y...)\n",
    "\n",
    "    loss_node, ŷ = batch_process(model, (x, y))\n",
    "\n",
    "    loss = Romeo.forward!(loss_node)\n",
    "    acc = round(100 * mean(Romeo.onecold.(eachcol(ŷ.value)) .== Romeo.onecold.(eachcol(y))); digits=2)\n",
    "\n",
    "    (; loss, acc, split=data.split)\n",
    "end"
   ]
  },
  {
   "cell_type": "code",
   "execution_count": 5,
   "metadata": {},
   "outputs": [
    {
     "name": "stderr",
     "output_type": "stream",
     "text": [
      "┌ Info: Before training\n",
      "│   test_loss = 3.2900946\n",
      "│   test_acc = 14.54\n",
      "└ @ Main /home/sebastian/.julia/dev/Romeo/example/mnist.ipynb:2\n"
     ]
    }
   ],
   "source": [
    "test_loss, test_acc, _ =  loss_and_accuracy(net, test_data)\n",
    "@info \"Before training\" test_loss test_acc"
   ]
  },
  {
   "cell_type": "code",
   "execution_count": 13,
   "metadata": {},
   "outputs": [
    {
     "name": "stderr",
     "output_type": "stream",
     "text": [
      "\u001b[32mProgress: 100%|█████████████████████████████████████████| Time: 0:00:07\u001b[39m\u001b[K\n"
     ]
    },
    {
     "name": "stdout",
     "output_type": "stream",
     "text": [
      "  7.823538 seconds (755.75 k allocations: 1.221 GiB, 21.94% gc time, 6.73% compilation time)\n"
     ]
    },
    {
     "name": "stderr",
     "output_type": "stream",
     "text": [
      "┌ Info: 1\n",
      "│   acc = 87.25\n",
      "│   loss = 0.41411597\n",
      "│   test_acc = 87.42\n",
      "│   test_loss = 0.41309115\n",
      "│   batch_count = 600\n",
      "│   settings.batchsize = 100\n",
      "└ @ Main /home/sebastian/.julia/dev/Romeo/example/mnist.ipynb:30\n",
      "\u001b[32mProgress: 100%|█████████████████████████████████████████| Time: 0:00:06\u001b[39m\u001b[K\n"
     ]
    },
    {
     "name": "stdout",
     "output_type": "stream",
     "text": [
      "  6.977171 seconds (568.37 k allocations: 1.209 GiB, 22.29% gc time)\n"
     ]
    },
    {
     "name": "stderr",
     "output_type": "stream",
     "text": [
      "┌ Info: 2\n",
      "│   acc = 85.17\n",
      "│   loss = 0.46834666\n",
      "│   test_acc = 85.48\n",
      "│   test_loss = 0.4621819\n",
      "│   batch_count = 600\n",
      "│   settings.batchsize = 100\n",
      "└ @ Main /home/sebastian/.julia/dev/Romeo/example/mnist.ipynb:30\n",
      "\u001b[32mProgress: 100%|█████████████████████████████████████████| Time: 0:00:06\u001b[39m\u001b[K\n"
     ]
    },
    {
     "name": "stdout",
     "output_type": "stream",
     "text": [
      "  6.855787 seconds (568.36 k allocations: 1.209 GiB, 20.60% gc time)\n"
     ]
    },
    {
     "name": "stderr",
     "output_type": "stream",
     "text": [
      "┌ Info: 3\n",
      "│   acc = 84.42\n",
      "│   loss = 0.49583346\n",
      "│   test_acc = 84.89\n",
      "│   test_loss = 0.48098692\n",
      "│   batch_count = 600\n",
      "│   settings.batchsize = 100\n",
      "└ @ Main /home/sebastian/.julia/dev/Romeo/example/mnist.ipynb:30\n",
      "\u001b[32mProgress: 100%|█████████████████████████████████████████| Time: 0:00:06\u001b[39m\u001b[K\n"
     ]
    },
    {
     "name": "stdout",
     "output_type": "stream",
     "text": [
      "  6.236138 seconds (567.82 k allocations: 1.209 GiB, 21.01% gc time)\n"
     ]
    },
    {
     "name": "stderr",
     "output_type": "stream",
     "text": [
      "┌ Info: 4\n",
      "│   acc = 85.0\n",
      "│   loss = 0.4740931\n",
      "│   test_acc = 85.06\n",
      "│   test_loss = 0.47280595\n",
      "│   batch_count = 600\n",
      "│   settings.batchsize = 100\n",
      "└ @ Main /home/sebastian/.julia/dev/Romeo/example/mnist.ipynb:30\n",
      "\u001b[32mProgress: 100%|█████████████████████████████████████████| Time: 0:00:06\u001b[39m\u001b[K\n"
     ]
    },
    {
     "name": "stdout",
     "output_type": "stream",
     "text": [
      "  6.359483 seconds (567.83 k allocations: 1.209 GiB, 23.07% gc time)\n"
     ]
    },
    {
     "name": "stderr",
     "output_type": "stream",
     "text": [
      "┌ Info: 5\n",
      "│   acc = 85.38\n",
      "│   loss = 0.47610918\n",
      "│   test_acc = 85.83\n",
      "│   test_loss = 0.4591336\n",
      "│   batch_count = 600\n",
      "│   settings.batchsize = 100\n",
      "└ @ Main /home/sebastian/.julia/dev/Romeo/example/mnist.ipynb:30\n"
     ]
    }
   ],
   "source": [
    "optimizer = Romeo.Descent(settings.η)\n",
    "for epoch in 1:settings.epochs\n",
    "    \n",
    "    batch_count = 0\n",
    "    \n",
    "    @time @showprogress for (x, y) in loader(train_data; batchsize=settings.batchsize)\n",
    "        if length(size(x)) > 1\n",
    "            y = hcat(y...)\n",
    "        end\n",
    "    \n",
    "        loss_node, _ = batch_process(net, (x, y))\n",
    "\n",
    "        Romeo.forward!(loss_node)\n",
    "\n",
    "        if isnan(loss_node.value)\n",
    "            @error \"NaN detected\"\n",
    "            @show loss_node.value\n",
    "            break\n",
    "        end\n",
    "\n",
    "        Romeo.backward!(loss_node)\n",
    "        Romeo.clip!(net, settings.hi)\n",
    "        Romeo.train!(optimizer, loss_node)\n",
    "\n",
    "        batch_count += 1\n",
    "    end\n",
    "\n",
    "    loss, acc, _ = loss_and_accuracy(net, train_data)\n",
    "    local test_loss, test_acc, _ = loss_and_accuracy(net, test_data)\n",
    "    @info epoch acc loss test_acc test_loss batch_count settings.batchsize\n",
    "end"
   ]
  }
 ],
 "metadata": {
  "kernelspec": {
   "display_name": "Julia 1.10.4",
   "language": "julia",
   "name": "julia-1.10"
  },
  "language_info": {
   "file_extension": ".jl",
   "mimetype": "application/julia",
   "name": "julia",
   "version": "1.10.4"
  }
 },
 "nbformat": 4,
 "nbformat_minor": 2
}
