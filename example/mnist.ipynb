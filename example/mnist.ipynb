{
 "cells": [
  {
   "cell_type": "code",
   "execution_count": 1,
   "metadata": {},
   "outputs": [
    {
     "data": {
      "text/plain": [
       "Float64"
      ]
     },
     "metadata": {},
     "output_type": "display_data"
    }
   ],
   "source": [
    "using Statistics: mean\n",
    "using ProgressMeter: @showprogress\n",
    "using Romeo\n",
    "using LinearAlgebra: norm\n",
    "\n",
    "# Flux is used only for loading the MNIST dataset\n",
    "using MLDatasets, Flux\n",
    "\n",
    "Num = Float64"
   ]
  },
  {
   "cell_type": "code",
   "execution_count": 2,
   "metadata": {},
   "outputs": [
    {
     "data": {
      "text/plain": [
       "(η = 0.015, epochs = 5, batchsize = 100, hi = 1)"
      ]
     },
     "metadata": {},
     "output_type": "display_data"
    }
   ],
   "source": [
    "settings = (;\n",
    "    η = 15e-3,\n",
    "    epochs = 5,\n",
    "    batchsize = 100,\n",
    "    hi = 1\n",
    ")"
   ]
  },
  {
   "cell_type": "code",
   "execution_count": 3,
   "metadata": {},
   "outputs": [
    {
     "data": {
      "text/plain": [
       "loader (generic function with 1 method)"
      ]
     },
     "metadata": {},
     "output_type": "display_data"
    }
   ],
   "source": [
    "train_data = MLDatasets.MNIST(split=:train)\n",
    "test_data = MLDatasets.MNIST(split=:test)\n",
    "\n",
    "function loader(data; batchsize::Int=-1)\n",
    "    x1dim = reshape(data.features, 28 * 28, :)\n",
    "    yhot = Romeo.onehot.(data.targets, 10, Num)\n",
    "    return Flux.DataLoader((x1dim, yhot); batchsize, shuffle=true)\n",
    "end"
   ]
  },
  {
   "cell_type": "code",
   "execution_count": 4,
   "metadata": {},
   "outputs": [
    {
     "data": {
      "text/plain": [
       "loss_and_accuracy (generic function with 1 method)"
      ]
     },
     "metadata": {},
     "output_type": "display_data"
    }
   ],
   "source": [
    "net = Romeo.Network(\n",
    "    Romeo.RNN(Romeo.RNNCell{Num}(14 * 14 => 64, activation=Romeo.tanh, init=Romeo.glorot_uniform)),\n",
    "    Romeo.Dense{Num}(64 => 10, activation=Romeo.identity, init=Romeo.glorot_uniform),\n",
    "    Romeo.Softmax{Num}()\n",
    ")\n",
    "\n",
    "function batch_process(model::Romeo.Network, data)\n",
    "    (x, y) = data\n",
    "\n",
    "    Romeo.reset!(model)\n",
    "\n",
    "    ŷ = model(x[  1:196,:])\n",
    "    ŷ = model(x[197:392,:])\n",
    "    ŷ = model(x[393:588,:])\n",
    "    ŷ = model(x[589:end,:])\n",
    "\n",
    "    return Romeo.crossentropy(ŷ, Romeo.MatrixConstant(y)), ŷ\n",
    "end\n",
    "\n",
    "function loss_and_accuracy(model::Romeo.Network, data)\n",
    "    (x, y) = only(loader(data; batchsize=length(data)))\n",
    "    y = hcat(y...)\n",
    "\n",
    "    loss_node, ŷ = batch_process(model, (x, y))\n",
    "\n",
    "    loss = Romeo.forward!(loss_node)\n",
    "    acc = round(100 * mean(Romeo.onecold.(eachcol(ŷ.value)) .== Romeo.onecold.(eachcol(y))); digits=2)\n",
    "\n",
    "    (; loss, acc, split=data.split)\n",
    "end"
   ]
  },
  {
   "cell_type": "code",
   "execution_count": 5,
   "metadata": {},
   "outputs": [
    {
     "ename": "MethodError",
     "evalue": "MethodError: no method matching _rnn_step(::Romeo.MatrixVariable{Float64}, ::Romeo.MatrixVariable{Float64}, ::Romeo.MatrixVariable{Float32}, ::Romeo.MatrixVariable{Float64}, ::Romeo.MatrixVariable{Float64})\n\nClosest candidates are:\n  _rnn_step(::Romeo.MatrixNode{T}, ::Romeo.MatrixNode{T}, !Matched::Romeo.MatrixNode{T}, ::Romeo.MatrixNode{T}, ::Romeo.MatrixNode{T}) where T\n   @ Romeo ~/.julia/dev/Romeo/src/layers/recurrent.jl:80\n",
     "output_type": "error",
     "traceback": [
      "MethodError: no method matching _rnn_step(::Romeo.MatrixVariable{Float64}, ::Romeo.MatrixVariable{Float64}, ::Romeo.MatrixVariable{Float32}, ::Romeo.MatrixVariable{Float64}, ::Romeo.MatrixVariable{Float64})\n",
      "\n",
      "Closest candidates are:\n",
      "  _rnn_step(::Romeo.MatrixNode{T}, ::Romeo.MatrixNode{T}, !Matched::Romeo.MatrixNode{T}, ::Romeo.MatrixNode{T}, ::Romeo.MatrixNode{T}) where T\n",
      "   @ Romeo ~/.julia/dev/Romeo/src/layers/recurrent.jl:80\n",
      "\n",
      "\n",
      "Stacktrace:\n",
      " [1] (::Romeo.RNNCell{Float64})(x::Romeo.MatrixVariable{Float32}, state::Romeo.MatrixVariable{Float64})\n",
      "   @ Romeo ~/.julia/dev/Romeo/src/layers/recurrent.jl:47\n",
      " [2] (::Romeo.RNN{Float64})(x::Romeo.MatrixVariable{Float32})\n",
      "   @ Romeo ~/.julia/dev/Romeo/src/layers/recurrent.jl:75\n",
      " [3] (::Romeo.Network{Float64})(x::Matrix{Float32})\n",
      "   @ Romeo ~/.julia/dev/Romeo/src/layers/network.jl:38\n",
      " [4] batch_process(model::Romeo.Network{Float64}, data::Tuple{Matrix{Float32}, Matrix{Float64}})\n",
      "   @ Main ~/.julia/dev/Romeo/example/mnist.ipynb:12\n",
      " [5] loss_and_accuracy(model::Romeo.Network{Float64}, data::MNIST)\n",
      "   @ Main ~/.julia/dev/Romeo/example/mnist.ipynb:24\n",
      " [6] top-level scope\n",
      "   @ ~/.julia/dev/Romeo/example/mnist.ipynb:1"
     ]
    }
   ],
   "source": [
    "test_loss, test_acc, _ =  loss_and_accuracy(net, test_data)\n",
    "@info \"Before training\" test_loss test_acc"
   ]
  },
  {
   "cell_type": "code",
   "execution_count": 6,
   "metadata": {},
   "outputs": [
    {
     "ename": "MethodError",
     "evalue": "MethodError: no method matching _rnn_step(::Romeo.MatrixVariable{Float64}, ::Romeo.MatrixVariable{Float64}, ::Romeo.MatrixVariable{Float32}, ::Romeo.MatrixVariable{Float64}, ::Romeo.MatrixVariable{Float64})\n\nClosest candidates are:\n  _rnn_step(::Romeo.MatrixNode{T}, ::Romeo.MatrixNode{T}, !Matched::Romeo.MatrixNode{T}, ::Romeo.MatrixNode{T}, ::Romeo.MatrixNode{T}) where T\n   @ Romeo ~/.julia/dev/Romeo/src/layers/recurrent.jl:80\n",
     "output_type": "error",
     "traceback": [
      "MethodError: no method matching _rnn_step(::Romeo.MatrixVariable{Float64}, ::Romeo.MatrixVariable{Float64}, ::Romeo.MatrixVariable{Float32}, ::Romeo.MatrixVariable{Float64}, ::Romeo.MatrixVariable{Float64})\n",
      "\n",
      "Closest candidates are:\n",
      "  _rnn_step(::Romeo.MatrixNode{T}, ::Romeo.MatrixNode{T}, !Matched::Romeo.MatrixNode{T}, ::Romeo.MatrixNode{T}, ::Romeo.MatrixNode{T}) where T\n",
      "   @ Romeo ~/.julia/dev/Romeo/src/layers/recurrent.jl:80\n",
      "\n",
      "\n",
      "Stacktrace:\n",
      " [1] (::Romeo.RNNCell{Float64})(x::Romeo.MatrixVariable{Float32}, state::Romeo.MatrixVariable{Float64})\n",
      "   @ Romeo ~/.julia/dev/Romeo/src/layers/recurrent.jl:47\n",
      " [2] (::Romeo.RNN{Float64})(x::Romeo.MatrixVariable{Float32})\n",
      "   @ Romeo ~/.julia/dev/Romeo/src/layers/recurrent.jl:75\n",
      " [3] (::Romeo.Network{Float64})(x::Matrix{Float32})\n",
      "   @ Romeo ~/.julia/dev/Romeo/src/layers/network.jl:38\n",
      " [4] batch_process(model::Romeo.Network{Float64}, data::Tuple{Matrix{Float32}, Matrix{Float64}})\n",
      "   @ Main ~/.julia/dev/Romeo/example/mnist.ipynb:12\n",
      " [5] macro expansion\n",
      "   @ ~/.julia/dev/Romeo/example/mnist.ipynb:11 [inlined]\n",
      " [6] macro expansion\n",
      "   @ ~/.julia/packages/ProgressMeter/dMfiC/src/ProgressMeter.jl:1010 [inlined]\n",
      " [7] macro expansion\n",
      "   @ ./timing.jl:279 [inlined]\n",
      " [8] top-level scope\n",
      "   @ ~/.julia/dev/Romeo/example/mnist.ipynb:6"
     ]
    }
   ],
   "source": [
    "optimizer = Romeo.Descent(settings.η)\n",
    "for epoch in 1:settings.epochs\n",
    "    \n",
    "    batch_count = 0\n",
    "    \n",
    "    @time @showprogress for (x, y) in loader(train_data; batchsize=settings.batchsize)\n",
    "        if length(size(x)) > 1\n",
    "            y = hcat(y...)\n",
    "        end\n",
    "    \n",
    "        loss_node, _ = batch_process(net, (x, y))\n",
    "\n",
    "        Romeo.forward!(loss_node)\n",
    "\n",
    "        if isnan(loss_node.value)\n",
    "            @error \"NaN detected\"\n",
    "            @show loss_node.value\n",
    "            break\n",
    "        end\n",
    "\n",
    "        Romeo.backward!(loss_node)\n",
    "        Romeo.clip!(net, settings.hi)\n",
    "        Romeo.train!(optimizer, loss_node)\n",
    "\n",
    "        batch_count += 1\n",
    "    end\n",
    "\n",
    "    loss, acc, _ = loss_and_accuracy(net, train_data)\n",
    "    local test_loss, test_acc, _ = loss_and_accuracy(net, test_data)\n",
    "    @info epoch acc loss test_acc test_loss batch_count settings.batchsize\n",
    "end"
   ]
  }
 ],
 "metadata": {
  "kernelspec": {
   "display_name": "Julia 1.10.4",
   "language": "julia",
   "name": "julia-1.10"
  },
  "language_info": {
   "file_extension": ".jl",
   "mimetype": "application/julia",
   "name": "julia",
   "version": "1.10.4"
  }
 },
 "nbformat": 4,
 "nbformat_minor": 2
}
