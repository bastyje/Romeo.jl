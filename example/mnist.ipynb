{
 "cells": [
  {
   "cell_type": "code",
   "execution_count": 7,
   "metadata": {},
   "outputs": [
    {
     "data": {
      "text/plain": [
       "Float32"
      ]
     },
     "metadata": {},
     "output_type": "display_data"
    }
   ],
   "source": [
    "using Statistics: mean\n",
    "using ProgressMeter: @showprogress\n",
    "using Romeo\n",
    "\n",
    "# This is needed to avoid interactive prompts\n",
    "ENV[\"DATADEPS_ALWAYS_ACCEPT\"] = true\n",
    "\n",
    "# Flux is used only for loading the MNIST dataset\n",
    "using MLDatasets, Flux\n",
    "\n",
    "Num = Float32"
   ]
  },
  {
   "cell_type": "code",
   "execution_count": 8,
   "metadata": {},
   "outputs": [
    {
     "data": {
      "text/plain": [
       "loader (generic function with 1 method)"
      ]
     },
     "metadata": {},
     "output_type": "display_data"
    }
   ],
   "source": [
    "train_data = MLDatasets.MNIST(split=:train)\n",
    "test_data = MLDatasets.MNIST(split=:test)\n",
    "\n",
    "function loader(data; batchsize::Int=-1)\n",
    "    x1dim = reshape(Num.(data.features), 28 * 28, :)\n",
    "    yhot = Romeo.onehot.(data.targets, 10, Num)\n",
    "    return Flux.DataLoader((x1dim, yhot); batchsize, shuffle=true)\n",
    "end"
   ]
  },
  {
   "cell_type": "code",
   "execution_count": 9,
   "metadata": {},
   "outputs": [
    {
     "data": {
      "text/plain": [
       "loss_and_accuracy (generic function with 1 method)"
      ]
     },
     "metadata": {},
     "output_type": "display_data"
    }
   ],
   "source": [
    "net = Romeo.Network(\n",
    "    Romeo.RNN(Romeo.RNNCell{Num}(14 * 14 => 64, activation=Romeo.tanh, init=Romeo.glorot_uniform)),\n",
    "    Romeo.Dense{Num}(64 => 10, activation=Romeo.identity, init=Romeo.glorot_uniform),\n",
    "    Romeo.Softmax{Num}()\n",
    ")\n",
    "\n",
    "function batch_process(model::Romeo.Network, data)\n",
    "    (x, y) = data\n",
    "\n",
    "    Romeo.reset!(model)\n",
    "\n",
    "    ŷ = model(x[  1:196,:])\n",
    "    ŷ = model(x[197:392,:])\n",
    "    ŷ = model(x[393:588,:])\n",
    "    ŷ = model(x[589:end,:])\n",
    "\n",
    "    return Romeo.crossentropy(ŷ, Romeo.MatrixConstant(y)), ŷ\n",
    "end\n",
    "\n",
    "function loss_and_accuracy(model::Romeo.Network, data)\n",
    "    (x, y) = only(loader(data; batchsize=length(data)))\n",
    "    y = hcat(y...)\n",
    "\n",
    "    loss_node, ŷ = batch_process(model, (x, y))\n",
    "\n",
    "    loss = Romeo.forward!(loss_node)\n",
    "    acc = round(100 * mean(Romeo.onecold.(eachcol(ŷ.value)) .== Romeo.onecold.(eachcol(y))); digits=2)\n",
    "\n",
    "    (; loss, acc, split=data.split)\n",
    "end"
   ]
  },
  {
   "cell_type": "code",
   "execution_count": 10,
   "metadata": {},
   "outputs": [
    {
     "name": "stderr",
     "output_type": "stream",
     "text": [
      "┌ Info: Before training\n",
      "│   test_loss = 3.2658546\n",
      "│   test_acc = 11.62\n",
      "└ @ Main /home/sebastian/.julia/dev/Romeo/example/mnist.ipynb:2\n"
     ]
    }
   ],
   "source": [
    "test_loss, test_acc, _ =  loss_and_accuracy(net, test_data)\n",
    "@info \"Before training\" test_loss test_acc"
   ]
  },
  {
   "cell_type": "code",
   "execution_count": 11,
   "metadata": {},
   "outputs": [
    {
     "data": {
      "text/plain": [
       "(η = 0.015, epochs = 5, batchsize = 100, threshold = 0.9f0)"
      ]
     },
     "metadata": {},
     "output_type": "display_data"
    }
   ],
   "source": [
    "settings = (;\n",
    "    η = 15e-3,\n",
    "    epochs = 5,\n",
    "    batchsize = 100,\n",
    "    threshold = 0.9f0\n",
    ")"
   ]
  },
  {
   "cell_type": "code",
   "execution_count": 12,
   "metadata": {},
   "outputs": [
    {
     "name": "stderr",
     "output_type": "stream",
     "text": [
      "\u001b[32mProgress: 100%|█████████████████████████████████████████| Time: 0:00:26\u001b[39m\u001b[K\n"
     ]
    },
    {
     "name": "stdout",
     "output_type": "stream",
     "text": [
      " 28.598613 seconds (5.03 M allocations: 1.678 GiB, 4.82% gc time, 69.75% compilation time: 2% of which was recompilation)\n"
     ]
    },
    {
     "name": "stderr",
     "output_type": "stream",
     "text": [
      "┌ Info: 1\n",
      "│   acc = 91.22\n",
      "│   loss = 0.4065568\n",
      "│   test_acc = 91.27\n",
      "│   test_loss = 0.40810195\n",
      "│   batch_count = 600\n",
      "│   settings.batchsize = 100\n",
      "└ @ Main /home/sebastian/.julia/dev/Romeo/example/mnist.ipynb:28\n",
      "\u001b[32mProgress: 100%|█████████████████████████████████████████| Time: 0:00:07\u001b[39m\u001b[K\n"
     ]
    },
    {
     "name": "stdout",
     "output_type": "stream",
     "text": [
      "  7.539057 seconds (617.35 k allocations: 1.385 GiB, 1.88% gc time)\n"
     ]
    },
    {
     "name": "stderr",
     "output_type": "stream",
     "text": [
      "┌ Info: 2\n",
      "│   acc = 93.57\n",
      "│   loss = 0.3281799\n",
      "│   test_acc = 93.84\n",
      "│   test_loss = 0.29298812\n",
      "│   batch_count = 600\n",
      "│   settings.batchsize = 100\n",
      "└ @ Main /home/sebastian/.julia/dev/Romeo/example/mnist.ipynb:28\n",
      "\u001b[32mProgress: 100%|█████████████████████████████████████████| Time: 0:00:08\u001b[39m\u001b[K\n"
     ]
    },
    {
     "name": "stdout",
     "output_type": "stream",
     "text": [
      "  9.054645 seconds (617.77 k allocations: 1.385 GiB, 9.46% gc time)\n"
     ]
    },
    {
     "name": "stderr",
     "output_type": "stream",
     "text": [
      "┌ Info: 3\n",
      "│   acc = 93.45\n",
      "│   loss = 0.360613\n",
      "│   test_acc = 92.94\n",
      "│   test_loss = 0.36234134\n",
      "│   batch_count = 600\n",
      "│   settings.batchsize = 100\n",
      "└ @ Main /home/sebastian/.julia/dev/Romeo/example/mnist.ipynb:28\n",
      "\u001b[32mProgress: 100%|█████████████████████████████████████████| Time: 0:00:08\u001b[39m\u001b[K\n"
     ]
    },
    {
     "name": "stdout",
     "output_type": "stream",
     "text": [
      "  8.643232 seconds (617.14 k allocations: 1.385 GiB, 11.22% gc time)\n"
     ]
    },
    {
     "name": "stderr",
     "output_type": "stream",
     "text": [
      "┌ Info: 4\n",
      "│   acc = 94.02\n",
      "│   loss = 0.33712512\n",
      "│   test_acc = 93.94\n",
      "│   test_loss = 0.32813686\n",
      "│   batch_count = 600\n",
      "│   settings.batchsize = 100\n",
      "└ @ Main /home/sebastian/.julia/dev/Romeo/example/mnist.ipynb:28\n",
      "\u001b[32mProgress: 100%|█████████████████████████████████████████| Time: 0:00:07\u001b[39m\u001b[K\n"
     ]
    },
    {
     "name": "stdout",
     "output_type": "stream",
     "text": [
      "  7.902901 seconds (617.44 k allocations: 1.385 GiB, 1.57% gc time)\n"
     ]
    },
    {
     "name": "stderr",
     "output_type": "stream",
     "text": [
      "┌ Info: 5\n",
      "│   acc = 93.75\n",
      "│   loss = 0.34842512\n",
      "│   test_acc = 93.6\n",
      "│   test_loss = 0.3562206\n",
      "│   batch_count = 600\n",
      "│   settings.batchsize = 100\n",
      "└ @ Main /home/sebastian/.julia/dev/Romeo/example/mnist.ipynb:28\n"
     ]
    }
   ],
   "source": [
    "optimizer = Romeo.Descent(settings.η)\n",
    "\n",
    "for epoch in 1:settings.epochs\n",
    "    batch_count = 0\n",
    "    @time @showprogress for (x, y) in loader(train_data; batchsize=settings.batchsize)\n",
    "        if length(size(x)) > 1\n",
    "            y = hcat(y...)\n",
    "        end\n",
    "    \n",
    "        loss_node, _ = batch_process(net, (x, y))\n",
    "\n",
    "        Romeo.forward!(loss_node)\n",
    "\n",
    "        if isnan(loss_node.value)\n",
    "            @error \"NaN detected\"\n",
    "            @show loss_node.value\n",
    "            break\n",
    "        end\n",
    "\n",
    "        Romeo.backward!(loss_node, threshold=settings.threshold)\n",
    "        Romeo.train!(optimizer, loss_node)\n",
    "\n",
    "        batch_count += 1\n",
    "    end\n",
    "\n",
    "    loss, acc, _ = loss_and_accuracy(net, train_data)\n",
    "    local test_loss, test_acc, _ = loss_and_accuracy(net, test_data)\n",
    "    @info epoch acc loss test_acc test_loss batch_count settings.batchsize\n",
    "end"
   ]
  }
 ],
 "metadata": {
  "kernelspec": {
   "display_name": "Julia 1.10.4",
   "language": "julia",
   "name": "julia-1.10"
  },
  "language_info": {
   "file_extension": ".jl",
   "mimetype": "application/julia",
   "name": "julia",
   "version": "1.10.4"
  }
 },
 "nbformat": 4,
 "nbformat_minor": 2
}
