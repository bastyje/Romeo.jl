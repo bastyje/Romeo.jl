{
 "cells": [
  {
   "cell_type": "code",
   "execution_count": 3,
   "metadata": {},
   "outputs": [],
   "source": [
    "using Statistics: mean\n",
    "using ProgressMeter: @showprogress\n",
    "using Romeo\n",
    "using LinearAlgebra: norm\n",
    "\n",
    "# Flux is used only for loading the MNIST dataset\n",
    "using MLDatasets, Flux"
   ]
  },
  {
   "cell_type": "code",
   "execution_count": 4,
   "metadata": {},
   "outputs": [
    {
     "data": {
      "text/plain": [
       "loader (generic function with 1 method)"
      ]
     },
     "metadata": {},
     "output_type": "display_data"
    }
   ],
   "source": [
    "Num = Float32\n",
    "\n",
    "train_data = MLDatasets.MNIST(split=:train)\n",
    "test_data = MLDatasets.MNIST(split=:test)\n",
    "\n",
    "function loader(data; batchsize::Int=-1)\n",
    "    x1dim = reshape(data.features, 28 * 28, :)\n",
    "    yhot = Romeo.onehot.(data.targets, 10, Num)\n",
    "    return Flux.DataLoader((x1dim, yhot); batchsize, shuffle=true)\n",
    "end"
   ]
  },
  {
   "cell_type": "code",
   "execution_count": 5,
   "metadata": {},
   "outputs": [
    {
     "data": {
      "text/plain": [
       "(η = 0.01, epochs = 5, batchsize = 100, hi = 2, lo = 0.0001)"
      ]
     },
     "metadata": {},
     "output_type": "display_data"
    }
   ],
   "source": [
    "net = Romeo.Network(\n",
    "    Romeo.RNN(Romeo.RNNCell{Num}(14 * 14 => 64, activation=Romeo.tanh, init=Romeo.glorot_uniform)),\n",
    "    Romeo.Dense{Num}(64 => 10, activation=Romeo.identity, init=Romeo.glorot_uniform),\n",
    "    Romeo.Softmax{Num}()\n",
    ")\n",
    "\n",
    "settings = (;\n",
    "    η = 1e-2,\n",
    "    epochs = 5,\n",
    "    batchsize = 100,\n",
    "    hi = 2,\n",
    "    lo = 0.0001\n",
    ")"
   ]
  },
  {
   "cell_type": "code",
   "execution_count": 6,
   "metadata": {},
   "outputs": [
    {
     "data": {
      "text/plain": [
       "loss_and_accuracy (generic function with 1 method)"
      ]
     },
     "metadata": {},
     "output_type": "display_data"
    }
   ],
   "source": [
    "function batch_process(model::Romeo.Network, data)\n",
    "    (x, y) = data\n",
    "\n",
    "    Romeo.reset!(model)\n",
    "\n",
    "    ŷ = model(x[  1:196,:])\n",
    "    ŷ = model(x[197:392,:])\n",
    "    ŷ = model(x[393:588,:])\n",
    "    ŷ = model(x[589:end,:])\n",
    "\n",
    "    return Romeo.crossentropy(ŷ, Romeo.MatrixConstant(y)), ŷ\n",
    "end\n",
    "\n",
    "# test the network on entire test data and return accuracy\n",
    "function loss_and_accuracy(model::Romeo.Network, data)\n",
    "    (x, y) = only(loader(data; batchsize=length(data)))\n",
    "    y = hcat(y...)\n",
    "\n",
    "    loss_node, ŷ = batch_process(model, (x, y))\n",
    "\n",
    "    loss = Romeo.forward!(loss_node)\n",
    "    acc = round(100 * mean(Romeo.onecold.(eachcol(ŷ.value)) .== Romeo.onecold.(eachcol(y))); digits=2)\n",
    "\n",
    "    (; loss, acc, split=data.split)\n",
    "end"
   ]
  },
  {
   "cell_type": "code",
   "execution_count": 7,
   "metadata": {},
   "outputs": [
    {
     "name": "stderr",
     "output_type": "stream",
     "text": [
      "┌ Info: Before training\n",
      "│   test_loss = 3.5006883\n",
      "│   test_acc = 9.49\n",
      "└ @ Main /home/sebastian/.julia/dev/Romeo/example/mnist.ipynb:2\n"
     ]
    }
   ],
   "source": [
    "test_loss, test_acc, _ = loss_and_accuracy(net, test_data)\n",
    "@info \"Before training\" test_loss test_acc"
   ]
  },
  {
   "cell_type": "code",
   "execution_count": 8,
   "metadata": {},
   "outputs": [
    {
     "name": "stderr",
     "output_type": "stream",
     "text": [
      "\u001b[32mProgress: 100%|█████████████████████████████████████████| Time: 0:01:12\u001b[39m\u001b[K8\u001b[39m\u001b[K\n"
     ]
    },
    {
     "name": "stdout",
     "output_type": "stream",
     "text": [
      " 73.147304 seconds (54.72 M allocations: 59.743 GiB, 1.74% gc time, 20.55% compilation time: 1% of which was recompilation)\n"
     ]
    },
    {
     "name": "stderr",
     "output_type": "stream",
     "text": [
      "┌ Info: 1\n",
      "│   acc = 89.5\n",
      "│   loss = 0.33622417\n",
      "│   test_acc = 90.01\n",
      "│   test_loss = 0.32715535\n",
      "└ @ Main /home/sebastian/.julia/dev/Romeo/example/mnist.ipynb:23\n",
      "\u001b[32mProgress: 100%|█████████████████████████████████████████| Time: 0:01:00\u001b[39m\u001b[K\n"
     ]
    },
    {
     "name": "stdout",
     "output_type": "stream",
     "text": [
      " 60.894325 seconds (48.33 M allocations: 59.327 GiB, 3.53% gc time)\n"
     ]
    },
    {
     "name": "stderr",
     "output_type": "stream",
     "text": [
      "┌ Info: 2\n",
      "│   acc = 89.85\n",
      "│   loss = 0.33075008\n",
      "│   test_acc = 90.0\n",
      "│   test_loss = 0.32828578\n",
      "└ @ Main /home/sebastian/.julia/dev/Romeo/example/mnist.ipynb:23\n",
      "\u001b[32mProgress: 100%|█████████████████████████████████████████| Time: 0:01:03\u001b[39m\u001b[K\n"
     ]
    },
    {
     "name": "stdout",
     "output_type": "stream",
     "text": [
      " 63.914541 seconds (48.33 M allocations: 59.327 GiB, 4.23% gc time)\n"
     ]
    },
    {
     "name": "stderr",
     "output_type": "stream",
     "text": [
      "┌ Info: 3\n",
      "│   acc = 89.27\n",
      "│   loss = 0.34383067\n",
      "│   test_acc = 89.33\n",
      "│   test_loss = 0.33818325\n",
      "└ @ Main /home/sebastian/.julia/dev/Romeo/example/mnist.ipynb:23\n",
      "\u001b[32mProgress: 100%|█████████████████████████████████████████| Time: 0:01:01\u001b[39m\u001b[K\n"
     ]
    },
    {
     "name": "stdout",
     "output_type": "stream",
     "text": [
      " 61.579762 seconds (48.33 M allocations: 59.327 GiB, 3.36% gc time)\n"
     ]
    },
    {
     "name": "stderr",
     "output_type": "stream",
     "text": [
      "┌ Info: 4\n",
      "│   acc = 89.16\n",
      "│   loss = 0.35573757\n",
      "│   test_acc = 89.83\n",
      "│   test_loss = 0.33765224\n",
      "└ @ Main /home/sebastian/.julia/dev/Romeo/example/mnist.ipynb:23\n",
      "\u001b[32mProgress: 100%|█████████████████████████████████████████| Time: 0:01:02\u001b[39m\u001b[K\n"
     ]
    },
    {
     "name": "stdout",
     "output_type": "stream",
     "text": [
      " 62.111161 seconds (48.33 M allocations: 59.327 GiB, 3.46% gc time)\n"
     ]
    },
    {
     "name": "stderr",
     "output_type": "stream",
     "text": [
      "┌ Info: 5\n",
      "│   acc = 88.76\n",
      "│   loss = 0.36127394\n",
      "│   test_acc = 89.13\n",
      "│   test_loss = 0.34825683\n",
      "└ @ Main /home/sebastian/.julia/dev/Romeo/example/mnist.ipynb:23\n"
     ]
    }
   ],
   "source": [
    "optimizer = Romeo.Descent(settings.η)\n",
    "for epoch in 1:settings.epochs\n",
    "    @time @showprogress for (x, y) in loader(train_data)\n",
    "        if length(size(x)) > 1\n",
    "            y = hcat(y...)\n",
    "        end\n",
    "    \n",
    "        loss_node, _ = batch_process(net, (x, y))\n",
    "\n",
    "        Romeo.forward!(loss_node)\n",
    "\n",
    "        if isnan(loss_node.value)\n",
    "            @error \"NaN detected\"\n",
    "            break\n",
    "        end\n",
    "\n",
    "        Romeo.backward!(loss_node)\n",
    "        Romeo.train!(optimizer, loss_node)\n",
    "    end\n",
    "\n",
    "    loss, acc, _ = loss_and_accuracy(net, train_data)\n",
    "    test_loss, test_acc, _ = loss_and_accuracy(net, test_data)\n",
    "    @info epoch acc loss test_acc test_loss\n",
    "end"
   ]
  }
 ],
 "metadata": {
  "kernelspec": {
   "display_name": "Julia 1.10.4",
   "language": "julia",
   "name": "julia-1.10"
  },
  "language_info": {
   "file_extension": ".jl",
   "mimetype": "application/julia",
   "name": "julia",
   "version": "1.10.4"
  }
 },
 "nbformat": 4,
 "nbformat_minor": 2
}
