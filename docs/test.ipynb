{
 "cells": [
  {
   "cell_type": "code",
   "execution_count": 2,
   "metadata": {},
   "outputs": [
    {
     "ename": "LoadError",
     "evalue": "MethodError: \u001b[0mCannot `convert` an object of type \u001b[92mNothing\u001b[39m\u001b[0m to an object of type \u001b[91mFloat64\u001b[39m\n\n\u001b[0mClosest candidates are:\n\u001b[0m  convert(::Type{T}, \u001b[91m::T\u001b[39m) where T<:Number\n\u001b[0m\u001b[90m   @\u001b[39m \u001b[90mBase\u001b[39m \u001b[90m\u001b[4mnumber.jl:6\u001b[24m\u001b[39m\n\u001b[0m  convert(::Type{T}, \u001b[91m::T\u001b[39m) where T\n\u001b[0m\u001b[90m   @\u001b[39m \u001b[90mBase\u001b[39m \u001b[90m\u001b[4mBase.jl:84\u001b[24m\u001b[39m\n\u001b[0m  convert(::Type{T}, \u001b[91m::Number\u001b[39m) where T<:Number\n\u001b[0m\u001b[90m   @\u001b[39m \u001b[90mBase\u001b[39m \u001b[90m\u001b[4mnumber.jl:7\u001b[24m\u001b[39m\n\u001b[0m  ...\n",
     "output_type": "error",
     "traceback": [
      "MethodError: \u001b[0mCannot `convert` an object of type \u001b[92mNothing\u001b[39m\u001b[0m to an object of type \u001b[91mFloat64\u001b[39m\n\n\u001b[0mClosest candidates are:\n\u001b[0m  convert(::Type{T}, \u001b[91m::T\u001b[39m) where T<:Number\n\u001b[0m\u001b[90m   @\u001b[39m \u001b[90mBase\u001b[39m \u001b[90m\u001b[4mnumber.jl:6\u001b[24m\u001b[39m\n\u001b[0m  convert(::Type{T}, \u001b[91m::T\u001b[39m) where T\n\u001b[0m\u001b[90m   @\u001b[39m \u001b[90mBase\u001b[39m \u001b[90m\u001b[4mBase.jl:84\u001b[24m\u001b[39m\n\u001b[0m  convert(::Type{T}, \u001b[91m::Number\u001b[39m) where T<:Number\n\u001b[0m\u001b[90m   @\u001b[39m \u001b[90mBase\u001b[39m \u001b[90m\u001b[4mnumber.jl:7\u001b[24m\u001b[39m\n\u001b[0m  ...\n",
      "",
      "Stacktrace:",
      " [1] Variable{Float64}(value::Float64, gradient::Nothing)",
      "   @ Main ./In[2]:10",
      " [2] Variable(value::Float64)",
      "   @ Main ./In[2]:14",
      " [3] top-level scope",
      "   @ In[2]:37"
     ]
    }
   ],
   "source": [
    "abstract type Node end\n",
    "\n",
    "abstract type Operator end\n",
    "\n",
    "struct Constant{T} <: Node\n",
    "    value::T\n",
    "end\n",
    "\n",
    "mutable struct Variable{T} <: Node\n",
    "    value::Union{T, Nothing}\n",
    "    gradient::Union{T, Nothing}\n",
    "end\n",
    "\n",
    "Variable(value::T) where T = Variable{T}(value, nothing)\n",
    "\n",
    "mutable struct ScalarOperator{T} <: Operator\n",
    "    inputs::Vector{Node}\n",
    "    output::Union{T, Nothing}\n",
    "    gradient::Vector{Union{T, Nothing}}\n",
    "    f::Function\n",
    "end\n",
    "\n",
    "ScalarOperator(inputs::Vector{Node}, f::Function) = ScalarOperator(inputs, nothing, nothing, f)\n",
    "\n",
    "import Base: +, -, *, /, sin, cos, exp, log, ^\n",
    "\n",
    "+(x::Node, y::Node) = ScalarOperator([x, y], +)\n",
    "-(x::Node, y::Node) = ScalarOperator([x, y], -)\n",
    "*(x::Node, y::Node) = ScalarOperator([x, y], *)\n",
    "/(x::Node, y::Node) = ScalarOperator([x, y], /)\n",
    "sin(x::Node) = ScalarOperator([x], sin)\n",
    "cos(x::Node) = ScalarOperator([x], cos)\n",
    "exp(x::Node) = ScalarOperator([x], exp)\n",
    "log(x::Node) = ScalarOperator([x], log)\n",
    "^(x::Node, y::Node) = ScalarOperator([x, y], ^)\n",
    "\n",
    "x = Variable(2.0)\n",
    "y₁ = x + x "
   ]
  }
 ],
 "metadata": {
  "kernelspec": {
   "display_name": "Julia 1.10.3",
   "language": "julia",
   "name": "julia-1.10"
  },
  "language_info": {
   "file_extension": ".jl",
   "mimetype": "application/julia",
   "name": "julia",
   "version": "1.10.3"
  }
 },
 "nbformat": 4,
 "nbformat_minor": 2
}
